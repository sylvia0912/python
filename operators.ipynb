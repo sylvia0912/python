{
 "cells": [
  {
   "cell_type": "markdown",
   "metadata": {
    "collapsed": true,
    "pycharm": {
     "name": "#%% md\n"
    }
   },
   "source": [
    "# Operators in Python"
   ]
  },
  {
   "cell_type": "markdown",
   "source": [
    "## 1. Arithmetic Operators"
   ],
   "metadata": {
    "collapsed": false,
    "pycharm": {
     "name": "#%% md\n"
    }
   }
  },
  {
   "cell_type": "code",
   "execution_count": 2,
   "outputs": [
    {
     "name": "stdout",
     "output_type": "stream",
     "text": [
      "Addition  8\n",
      "Subtraction  -2\n",
      "Multiplication  15\n",
      "Division  0.6\n"
     ]
    }
   ],
   "source": [
    "a = 3\n",
    "b = 5\n",
    "\n",
    "print(\"Addition \", a + b)\n",
    "print(\"Subtraction \", a - b)\n",
    "print(\"Multiplication \", a * b)\n",
    "print(\"Division \", a / b)"
   ],
   "metadata": {
    "collapsed": false,
    "pycharm": {
     "name": "#%%\n"
    }
   }
  },
  {
   "cell_type": "markdown",
   "source": [
    "## 2. Special Arithmetic Operators"
   ],
   "metadata": {
    "collapsed": false,
    "pycharm": {
     "name": "#%% md\n"
    }
   }
  },
  {
   "cell_type": "code",
   "execution_count": 3,
   "outputs": [
    {
     "name": "stdout",
     "output_type": "stream",
     "text": [
      "Modulo  3\n",
      "Floor Division  0\n",
      "Exponential  59049\n"
     ]
    }
   ],
   "source": [
    "# Modulo (remainder) operator\n",
    "print(\"Modulo \", a % b)\n",
    "\n",
    "# Floor division (quotient)\n",
    "print(\"Floor Division \", a // b)\n",
    "\n",
    "# Exponential\n",
    "print(\"Exponential \", a ** 10)"
   ],
   "metadata": {
    "collapsed": false,
    "pycharm": {
     "name": "#%%\n"
    }
   }
  },
  {
   "cell_type": "markdown",
   "source": [
    "# 3. Comparison Operators\n",
    "### In comparison operator o/p will always be a boolean value T or F"
   ],
   "metadata": {
    "collapsed": false,
    "pycharm": {
     "name": "#%% md\n"
    }
   }
  },
  {
   "cell_type": "code",
   "execution_count": 9,
   "outputs": [
    {
     "name": "stdout",
     "output_type": "stream",
     "text": [
      "False\n",
      "True\n",
      "True\n",
      "True\n",
      "False\n",
      "False\n"
     ]
    }
   ],
   "source": [
    "a = 3\n",
    "b = 5\n",
    "\n",
    "# equal to\n",
    "print(a == b)\n",
    "\n",
    "# not equal to\n",
    "print(a != b)\n",
    "\n",
    "# less than\n",
    "print(a < b)\n",
    "\n",
    "# less than or equal\n",
    "print(a <= b)\n",
    "\n",
    "# greater than\n",
    "print(a > b)\n",
    "\n",
    "# greater than or equal\n",
    "print(a >= b)"
   ],
   "metadata": {
    "collapsed": false,
    "pycharm": {
     "name": "#%%\n"
    }
   }
  },
  {
   "cell_type": "markdown",
   "source": [
    "# 4. Logical Operators\n",
    "### These will give boolean value as o/p and input to logical operators will also be boolean"
   ],
   "metadata": {
    "collapsed": false,
    "pycharm": {
     "name": "#%% md\n"
    }
   }
  },
  {
   "cell_type": "code",
   "execution_count": 13,
   "outputs": [
    {
     "name": "stdout",
     "output_type": "stream",
     "text": [
      "False\n",
      "True\n",
      "True\n",
      "False\n"
     ]
    }
   ],
   "source": [
    "a = True\n",
    "b = False\n",
    "\n",
    "# not operator\n",
    "print(not a)\n",
    "print(not b)\n",
    "\n",
    "# or operator\n",
    "print(a or b)\n",
    "\n",
    "# and operator\n",
    "print(a and b)"
   ],
   "metadata": {
    "collapsed": false,
    "pycharm": {
     "name": "#%%\n"
    }
   }
  },
  {
   "cell_type": "code",
   "execution_count": null,
   "outputs": [],
   "source": [],
   "metadata": {
    "collapsed": false,
    "pycharm": {
     "name": "#%%\n"
    }
   }
  }
 ],
 "metadata": {
  "kernelspec": {
   "display_name": "Python 3",
   "language": "python",
   "name": "python3"
  },
  "language_info": {
   "codemirror_mode": {
    "name": "ipython",
    "version": 2
   },
   "file_extension": ".py",
   "mimetype": "text/x-python",
   "name": "python",
   "nbconvert_exporter": "python",
   "pygments_lexer": "ipython2",
   "version": "2.7.6"
  }
 },
 "nbformat": 4,
 "nbformat_minor": 0
}