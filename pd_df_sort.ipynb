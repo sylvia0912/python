{
 "cells": [
  {
   "cell_type": "markdown",
   "metadata": {
    "collapsed": true,
    "pycharm": {
     "name": "#%% md\n"
    }
   },
   "source": [
    "## Sorting Pandas Dataframe"
   ]
  },
  {
   "cell_type": "code",
   "execution_count": 1,
   "outputs": [
    {
     "name": "stdout",
     "output_type": "stream",
     "text": [
      "<class 'pandas.core.frame.DataFrame'>\n"
     ]
    },
    {
     "data": {
      "text/plain": "  InvoiceNo StockCode                          Description  Quantity  \\\n0    536365    85123A   WHITE HANGING HEART T-LIGHT HOLDER         6   \n1    536365     71053                  WHITE METAL LANTERN         6   \n2    536365    84406B       CREAM CUPID HEARTS COAT HANGER         8   \n3    536365    84029G  KNITTED UNION FLAG HOT WATER BOTTLE         6   \n4    536365    84029E       RED WOOLLY HOTTIE WHITE HEART.         6   \n\n       InvoiceDate  UnitPrice  CustomerID         Country  \n0  01-12-2010 8.26       2.55     17850.0  United Kingdom  \n1  01-12-2010 8.26       3.39     17850.0  United Kingdom  \n2  01-12-2010 8.26       2.75     17850.0  United Kingdom  \n3  01-12-2010 8.26       3.39     17850.0  United Kingdom  \n4  01-12-2010 8.26       3.39     17850.0  United Kingdom  ",
      "text/html": "<div>\n<style scoped>\n    .dataframe tbody tr th:only-of-type {\n        vertical-align: middle;\n    }\n\n    .dataframe tbody tr th {\n        vertical-align: top;\n    }\n\n    .dataframe thead th {\n        text-align: right;\n    }\n</style>\n<table border=\"1\" class=\"dataframe\">\n  <thead>\n    <tr style=\"text-align: right;\">\n      <th></th>\n      <th>InvoiceNo</th>\n      <th>StockCode</th>\n      <th>Description</th>\n      <th>Quantity</th>\n      <th>InvoiceDate</th>\n      <th>UnitPrice</th>\n      <th>CustomerID</th>\n      <th>Country</th>\n    </tr>\n  </thead>\n  <tbody>\n    <tr>\n      <th>0</th>\n      <td>536365</td>\n      <td>85123A</td>\n      <td>WHITE HANGING HEART T-LIGHT HOLDER</td>\n      <td>6</td>\n      <td>01-12-2010 8.26</td>\n      <td>2.55</td>\n      <td>17850.0</td>\n      <td>United Kingdom</td>\n    </tr>\n    <tr>\n      <th>1</th>\n      <td>536365</td>\n      <td>71053</td>\n      <td>WHITE METAL LANTERN</td>\n      <td>6</td>\n      <td>01-12-2010 8.26</td>\n      <td>3.39</td>\n      <td>17850.0</td>\n      <td>United Kingdom</td>\n    </tr>\n    <tr>\n      <th>2</th>\n      <td>536365</td>\n      <td>84406B</td>\n      <td>CREAM CUPID HEARTS COAT HANGER</td>\n      <td>8</td>\n      <td>01-12-2010 8.26</td>\n      <td>2.75</td>\n      <td>17850.0</td>\n      <td>United Kingdom</td>\n    </tr>\n    <tr>\n      <th>3</th>\n      <td>536365</td>\n      <td>84029G</td>\n      <td>KNITTED UNION FLAG HOT WATER BOTTLE</td>\n      <td>6</td>\n      <td>01-12-2010 8.26</td>\n      <td>3.39</td>\n      <td>17850.0</td>\n      <td>United Kingdom</td>\n    </tr>\n    <tr>\n      <th>4</th>\n      <td>536365</td>\n      <td>84029E</td>\n      <td>RED WOOLLY HOTTIE WHITE HEART.</td>\n      <td>6</td>\n      <td>01-12-2010 8.26</td>\n      <td>3.39</td>\n      <td>17850.0</td>\n      <td>United Kingdom</td>\n    </tr>\n  </tbody>\n</table>\n</div>"
     },
     "execution_count": 1,
     "metadata": {},
     "output_type": "execute_result"
    }
   ],
   "source": [
    "# Load data\n",
    "import numpy as np\n",
    "import pandas as pd\n",
    "\n",
    "df = pd.read_csv('online_retail.csv')\n",
    "print(type(df))\n",
    "\n",
    "# preview your data\n",
    "df.head()"
   ],
   "metadata": {
    "collapsed": false,
    "pycharm": {
     "name": "#%%\n"
    }
   }
  },
  {
   "cell_type": "code",
   "execution_count": 2,
   "outputs": [],
   "source": [
    "df['invoiceAmount'] = df['Quantity']*df['UnitPrice']\n",
    "df['tax'] = (0.8*df['invoiceAmount'])  # 8% tax rate of invoiceAmount"
   ],
   "metadata": {
    "collapsed": false,
    "pycharm": {
     "name": "#%%\n"
    }
   }
  },
  {
   "cell_type": "code",
   "execution_count": 3,
   "outputs": [
    {
     "data": {
      "text/plain": "  InvoiceNo StockCode                          Description  Quantity  \\\n0    536365    85123A   WHITE HANGING HEART T-LIGHT HOLDER         6   \n1    536365     71053                  WHITE METAL LANTERN         6   \n2    536365    84406B       CREAM CUPID HEARTS COAT HANGER         8   \n3    536365    84029G  KNITTED UNION FLAG HOT WATER BOTTLE         6   \n4    536365    84029E       RED WOOLLY HOTTIE WHITE HEART.         6   \n\n       InvoiceDate  UnitPrice  CustomerID         Country  invoiceAmount  \\\n0  01-12-2010 8.26       2.55     17850.0  United Kingdom          15.30   \n1  01-12-2010 8.26       3.39     17850.0  United Kingdom          20.34   \n2  01-12-2010 8.26       2.75     17850.0  United Kingdom          22.00   \n3  01-12-2010 8.26       3.39     17850.0  United Kingdom          20.34   \n4  01-12-2010 8.26       3.39     17850.0  United Kingdom          20.34   \n\n      tax  \n0  12.240  \n1  16.272  \n2  17.600  \n3  16.272  \n4  16.272  ",
      "text/html": "<div>\n<style scoped>\n    .dataframe tbody tr th:only-of-type {\n        vertical-align: middle;\n    }\n\n    .dataframe tbody tr th {\n        vertical-align: top;\n    }\n\n    .dataframe thead th {\n        text-align: right;\n    }\n</style>\n<table border=\"1\" class=\"dataframe\">\n  <thead>\n    <tr style=\"text-align: right;\">\n      <th></th>\n      <th>InvoiceNo</th>\n      <th>StockCode</th>\n      <th>Description</th>\n      <th>Quantity</th>\n      <th>InvoiceDate</th>\n      <th>UnitPrice</th>\n      <th>CustomerID</th>\n      <th>Country</th>\n      <th>invoiceAmount</th>\n      <th>tax</th>\n    </tr>\n  </thead>\n  <tbody>\n    <tr>\n      <th>0</th>\n      <td>536365</td>\n      <td>85123A</td>\n      <td>WHITE HANGING HEART T-LIGHT HOLDER</td>\n      <td>6</td>\n      <td>01-12-2010 8.26</td>\n      <td>2.55</td>\n      <td>17850.0</td>\n      <td>United Kingdom</td>\n      <td>15.30</td>\n      <td>12.240</td>\n    </tr>\n    <tr>\n      <th>1</th>\n      <td>536365</td>\n      <td>71053</td>\n      <td>WHITE METAL LANTERN</td>\n      <td>6</td>\n      <td>01-12-2010 8.26</td>\n      <td>3.39</td>\n      <td>17850.0</td>\n      <td>United Kingdom</td>\n      <td>20.34</td>\n      <td>16.272</td>\n    </tr>\n    <tr>\n      <th>2</th>\n      <td>536365</td>\n      <td>84406B</td>\n      <td>CREAM CUPID HEARTS COAT HANGER</td>\n      <td>8</td>\n      <td>01-12-2010 8.26</td>\n      <td>2.75</td>\n      <td>17850.0</td>\n      <td>United Kingdom</td>\n      <td>22.00</td>\n      <td>17.600</td>\n    </tr>\n    <tr>\n      <th>3</th>\n      <td>536365</td>\n      <td>84029G</td>\n      <td>KNITTED UNION FLAG HOT WATER BOTTLE</td>\n      <td>6</td>\n      <td>01-12-2010 8.26</td>\n      <td>3.39</td>\n      <td>17850.0</td>\n      <td>United Kingdom</td>\n      <td>20.34</td>\n      <td>16.272</td>\n    </tr>\n    <tr>\n      <th>4</th>\n      <td>536365</td>\n      <td>84029E</td>\n      <td>RED WOOLLY HOTTIE WHITE HEART.</td>\n      <td>6</td>\n      <td>01-12-2010 8.26</td>\n      <td>3.39</td>\n      <td>17850.0</td>\n      <td>United Kingdom</td>\n      <td>20.34</td>\n      <td>16.272</td>\n    </tr>\n  </tbody>\n</table>\n</div>"
     },
     "execution_count": 3,
     "metadata": {},
     "output_type": "execute_result"
    }
   ],
   "source": [
    "df.head()"
   ],
   "metadata": {
    "collapsed": false,
    "pycharm": {
     "name": "#%%\n"
    }
   }
  },
  {
   "cell_type": "markdown",
   "source": [
    "## Sorting data by single column"
   ],
   "metadata": {
    "collapsed": false,
    "pycharm": {
     "name": "#%% md\n"
    }
   }
  },
  {
   "cell_type": "code",
   "execution_count": 12,
   "outputs": [
    {
     "data": {
      "text/plain": "       InvoiceNo  StockCode                     Description  Quantity  \\\n540421    581483      23843     PAPER CRAFT , LITTLE BIRDIE     80995   \n61619     541431      23166  MEDIUM CERAMIC TOP STORAGE JAR     74215   \n222680    556444      22502  PICNIC BASKET WICKER 60 PIECES        60   \n15017     537632  AMAZONFEE                      AMAZON FEE         1   \n299982   A563185          B                 Adjust bad debt         1   \n...          ...        ...                             ...       ...   \n43702    C540117  AMAZONFEE                      AMAZON FEE        -1   \n524602   C580605  AMAZONFEE                      AMAZON FEE        -1   \n222681   C556445          M                          Manual        -1   \n61624    C541433      23166  MEDIUM CERAMIC TOP STORAGE JAR    -74215   \n540422   C581484      23843     PAPER CRAFT , LITTLE BIRDIE    -80995   \n\n             InvoiceDate  UnitPrice  CustomerID         Country  \\\n540421   09-12-2011 9.15       2.08     16446.0  United Kingdom   \n61619   18-01-2011 10.01       1.04     12346.0  United Kingdom   \n222680  10-06-2011 15.28     649.50     15098.0  United Kingdom   \n15017   07-12-2010 15.08   13541.33         NaN  United Kingdom   \n299982  12-08-2011 14.50   11062.06         NaN  United Kingdom   \n...                  ...        ...         ...             ...   \n43702    05-01-2011 9.55   16888.02         NaN  United Kingdom   \n524602  05-12-2011 11.36   17836.46         NaN  United Kingdom   \n222681  10-06-2011 15.31   38970.00     15098.0  United Kingdom   \n61624   18-01-2011 10.17       1.04     12346.0  United Kingdom   \n540422   09-12-2011 9.27       2.08     16446.0  United Kingdom   \n\n        invoiceAmount         tax  \n540421      168469.60  134775.680  \n61619        77183.60   61746.880  \n222680       38970.00   31176.000  \n15017        13541.33   10833.064  \n299982       11062.06    8849.648  \n...               ...         ...  \n43702       -16888.02  -13510.416  \n524602      -17836.46  -14269.168  \n222681      -38970.00  -31176.000  \n61624       -77183.60  -61746.880  \n540422     -168469.60 -134775.680  \n\n[541909 rows x 10 columns]",
      "text/html": "<div>\n<style scoped>\n    .dataframe tbody tr th:only-of-type {\n        vertical-align: middle;\n    }\n\n    .dataframe tbody tr th {\n        vertical-align: top;\n    }\n\n    .dataframe thead th {\n        text-align: right;\n    }\n</style>\n<table border=\"1\" class=\"dataframe\">\n  <thead>\n    <tr style=\"text-align: right;\">\n      <th></th>\n      <th>InvoiceNo</th>\n      <th>StockCode</th>\n      <th>Description</th>\n      <th>Quantity</th>\n      <th>InvoiceDate</th>\n      <th>UnitPrice</th>\n      <th>CustomerID</th>\n      <th>Country</th>\n      <th>invoiceAmount</th>\n      <th>tax</th>\n    </tr>\n  </thead>\n  <tbody>\n    <tr>\n      <th>540421</th>\n      <td>581483</td>\n      <td>23843</td>\n      <td>PAPER CRAFT , LITTLE BIRDIE</td>\n      <td>80995</td>\n      <td>09-12-2011 9.15</td>\n      <td>2.08</td>\n      <td>16446.0</td>\n      <td>United Kingdom</td>\n      <td>168469.60</td>\n      <td>134775.680</td>\n    </tr>\n    <tr>\n      <th>61619</th>\n      <td>541431</td>\n      <td>23166</td>\n      <td>MEDIUM CERAMIC TOP STORAGE JAR</td>\n      <td>74215</td>\n      <td>18-01-2011 10.01</td>\n      <td>1.04</td>\n      <td>12346.0</td>\n      <td>United Kingdom</td>\n      <td>77183.60</td>\n      <td>61746.880</td>\n    </tr>\n    <tr>\n      <th>222680</th>\n      <td>556444</td>\n      <td>22502</td>\n      <td>PICNIC BASKET WICKER 60 PIECES</td>\n      <td>60</td>\n      <td>10-06-2011 15.28</td>\n      <td>649.50</td>\n      <td>15098.0</td>\n      <td>United Kingdom</td>\n      <td>38970.00</td>\n      <td>31176.000</td>\n    </tr>\n    <tr>\n      <th>15017</th>\n      <td>537632</td>\n      <td>AMAZONFEE</td>\n      <td>AMAZON FEE</td>\n      <td>1</td>\n      <td>07-12-2010 15.08</td>\n      <td>13541.33</td>\n      <td>NaN</td>\n      <td>United Kingdom</td>\n      <td>13541.33</td>\n      <td>10833.064</td>\n    </tr>\n    <tr>\n      <th>299982</th>\n      <td>A563185</td>\n      <td>B</td>\n      <td>Adjust bad debt</td>\n      <td>1</td>\n      <td>12-08-2011 14.50</td>\n      <td>11062.06</td>\n      <td>NaN</td>\n      <td>United Kingdom</td>\n      <td>11062.06</td>\n      <td>8849.648</td>\n    </tr>\n    <tr>\n      <th>...</th>\n      <td>...</td>\n      <td>...</td>\n      <td>...</td>\n      <td>...</td>\n      <td>...</td>\n      <td>...</td>\n      <td>...</td>\n      <td>...</td>\n      <td>...</td>\n      <td>...</td>\n    </tr>\n    <tr>\n      <th>43702</th>\n      <td>C540117</td>\n      <td>AMAZONFEE</td>\n      <td>AMAZON FEE</td>\n      <td>-1</td>\n      <td>05-01-2011 9.55</td>\n      <td>16888.02</td>\n      <td>NaN</td>\n      <td>United Kingdom</td>\n      <td>-16888.02</td>\n      <td>-13510.416</td>\n    </tr>\n    <tr>\n      <th>524602</th>\n      <td>C580605</td>\n      <td>AMAZONFEE</td>\n      <td>AMAZON FEE</td>\n      <td>-1</td>\n      <td>05-12-2011 11.36</td>\n      <td>17836.46</td>\n      <td>NaN</td>\n      <td>United Kingdom</td>\n      <td>-17836.46</td>\n      <td>-14269.168</td>\n    </tr>\n    <tr>\n      <th>222681</th>\n      <td>C556445</td>\n      <td>M</td>\n      <td>Manual</td>\n      <td>-1</td>\n      <td>10-06-2011 15.31</td>\n      <td>38970.00</td>\n      <td>15098.0</td>\n      <td>United Kingdom</td>\n      <td>-38970.00</td>\n      <td>-31176.000</td>\n    </tr>\n    <tr>\n      <th>61624</th>\n      <td>C541433</td>\n      <td>23166</td>\n      <td>MEDIUM CERAMIC TOP STORAGE JAR</td>\n      <td>-74215</td>\n      <td>18-01-2011 10.17</td>\n      <td>1.04</td>\n      <td>12346.0</td>\n      <td>United Kingdom</td>\n      <td>-77183.60</td>\n      <td>-61746.880</td>\n    </tr>\n    <tr>\n      <th>540422</th>\n      <td>C581484</td>\n      <td>23843</td>\n      <td>PAPER CRAFT , LITTLE BIRDIE</td>\n      <td>-80995</td>\n      <td>09-12-2011 9.27</td>\n      <td>2.08</td>\n      <td>16446.0</td>\n      <td>United Kingdom</td>\n      <td>-168469.60</td>\n      <td>-134775.680</td>\n    </tr>\n  </tbody>\n</table>\n<p>541909 rows × 10 columns</p>\n</div>"
     },
     "execution_count": 12,
     "metadata": {},
     "output_type": "execute_result"
    }
   ],
   "source": [
    "# sort df by invoiceAmount\n",
    "\n",
    "df.sort_values('invoiceAmount',ascending=False,axis=0)   # by default ascending=True\n",
    "\n",
    "# axis=0 means u move across rows so can perform operation on column, here sort\n",
    "# this will not reflect in original df, this is just an o/p of this method.\n",
    "# in case u do inplace=true, this statement will not give o/p here but reflect in original df when u print it.\n",
    "# Generally avoid inplace=true\n"
   ],
   "metadata": {
    "collapsed": false,
    "pycharm": {
     "name": "#%%\n"
    }
   }
  },
  {
   "cell_type": "markdown",
   "source": [
    "## Sorting data by multiple column - need to pass list for multiple col's\n",
    "remember default parameters for these sort command like ascending etc and to take care of whether to not use or use inplace command"
   ],
   "metadata": {
    "collapsed": false,
    "pycharm": {
     "name": "#%% md\n"
    }
   }
  },
  {
   "cell_type": "code",
   "execution_count": 17,
   "outputs": [
    {
     "data": {
      "text/plain": "       InvoiceNo StockCode                         Description  Quantity  \\\n433987   C574019     22738           RIBBON REEL SNOWY VILLAGE      -120   \n170899   C551348     22990          COTTON APRON PANTRY DESIGN      -100   \n108303   C545525     22969        HOMEMADE JAM SCENTED CANDLES       -86   \n270093   C560540     22492             MINI PAINT SET VINTAGE        -36   \n279046   C561227     84978    HANGING HEART JAR T-LIGHT HOLDER       -36   \n...          ...       ...                                 ...       ...   \n323438    565303     23310             BUBBLEGUM RING ASSORTED        36   \n257259    559521     22439                  6 ROCKET BALLOONS         40   \n196613    553857    47021G  SET/6 BEAD COASTERS GAUZE BAG GOLD        48   \n257284    559521     84077   WORLD WAR 2 GLIDERS ASSTD DESIGNS        48   \n323417    565303     84077   WORLD WAR 2 GLIDERS ASSTD DESIGNS        48   \n\n             InvoiceDate  UnitPrice  CustomerID      Country  invoiceAmount  \\\n433987  02-11-2011 12.05       1.45     12415.0    Australia        -174.00   \n170899   28-04-2011 9.49       4.25     12415.0    Australia        -425.00   \n108303  03-03-2011 13.11       1.25     12415.0    Australia        -107.50   \n270093  19-07-2011 12.26       0.65     12415.0    Australia         -23.40   \n279046  26-07-2011 10.15       1.06     12431.0    Australia         -38.16   \n...                  ...        ...         ...          ...            ...   \n323438  02-09-2011 12.17       0.42         NaN  Unspecified          15.12   \n257259  08-07-2011 16.26       0.65         NaN  Unspecified          26.00   \n196613  19-05-2011 13.30       0.39         NaN  Unspecified          18.72   \n257284  08-07-2011 16.26       0.29         NaN  Unspecified          13.92   \n323417  02-09-2011 12.17       0.29         NaN  Unspecified          13.92   \n\n            tax  \n433987 -139.200  \n170899 -340.000  \n108303  -86.000  \n270093  -18.720  \n279046  -30.528  \n...         ...  \n323438   12.096  \n257259   20.800  \n196613   14.976  \n257284   11.136  \n323417   11.136  \n\n[541909 rows x 10 columns]",
      "text/html": "<div>\n<style scoped>\n    .dataframe tbody tr th:only-of-type {\n        vertical-align: middle;\n    }\n\n    .dataframe tbody tr th {\n        vertical-align: top;\n    }\n\n    .dataframe thead th {\n        text-align: right;\n    }\n</style>\n<table border=\"1\" class=\"dataframe\">\n  <thead>\n    <tr style=\"text-align: right;\">\n      <th></th>\n      <th>InvoiceNo</th>\n      <th>StockCode</th>\n      <th>Description</th>\n      <th>Quantity</th>\n      <th>InvoiceDate</th>\n      <th>UnitPrice</th>\n      <th>CustomerID</th>\n      <th>Country</th>\n      <th>invoiceAmount</th>\n      <th>tax</th>\n    </tr>\n  </thead>\n  <tbody>\n    <tr>\n      <th>433987</th>\n      <td>C574019</td>\n      <td>22738</td>\n      <td>RIBBON REEL SNOWY VILLAGE</td>\n      <td>-120</td>\n      <td>02-11-2011 12.05</td>\n      <td>1.45</td>\n      <td>12415.0</td>\n      <td>Australia</td>\n      <td>-174.00</td>\n      <td>-139.200</td>\n    </tr>\n    <tr>\n      <th>170899</th>\n      <td>C551348</td>\n      <td>22990</td>\n      <td>COTTON APRON PANTRY DESIGN</td>\n      <td>-100</td>\n      <td>28-04-2011 9.49</td>\n      <td>4.25</td>\n      <td>12415.0</td>\n      <td>Australia</td>\n      <td>-425.00</td>\n      <td>-340.000</td>\n    </tr>\n    <tr>\n      <th>108303</th>\n      <td>C545525</td>\n      <td>22969</td>\n      <td>HOMEMADE JAM SCENTED CANDLES</td>\n      <td>-86</td>\n      <td>03-03-2011 13.11</td>\n      <td>1.25</td>\n      <td>12415.0</td>\n      <td>Australia</td>\n      <td>-107.50</td>\n      <td>-86.000</td>\n    </tr>\n    <tr>\n      <th>270093</th>\n      <td>C560540</td>\n      <td>22492</td>\n      <td>MINI PAINT SET VINTAGE</td>\n      <td>-36</td>\n      <td>19-07-2011 12.26</td>\n      <td>0.65</td>\n      <td>12415.0</td>\n      <td>Australia</td>\n      <td>-23.40</td>\n      <td>-18.720</td>\n    </tr>\n    <tr>\n      <th>279046</th>\n      <td>C561227</td>\n      <td>84978</td>\n      <td>HANGING HEART JAR T-LIGHT HOLDER</td>\n      <td>-36</td>\n      <td>26-07-2011 10.15</td>\n      <td>1.06</td>\n      <td>12431.0</td>\n      <td>Australia</td>\n      <td>-38.16</td>\n      <td>-30.528</td>\n    </tr>\n    <tr>\n      <th>...</th>\n      <td>...</td>\n      <td>...</td>\n      <td>...</td>\n      <td>...</td>\n      <td>...</td>\n      <td>...</td>\n      <td>...</td>\n      <td>...</td>\n      <td>...</td>\n      <td>...</td>\n    </tr>\n    <tr>\n      <th>323438</th>\n      <td>565303</td>\n      <td>23310</td>\n      <td>BUBBLEGUM RING ASSORTED</td>\n      <td>36</td>\n      <td>02-09-2011 12.17</td>\n      <td>0.42</td>\n      <td>NaN</td>\n      <td>Unspecified</td>\n      <td>15.12</td>\n      <td>12.096</td>\n    </tr>\n    <tr>\n      <th>257259</th>\n      <td>559521</td>\n      <td>22439</td>\n      <td>6 ROCKET BALLOONS</td>\n      <td>40</td>\n      <td>08-07-2011 16.26</td>\n      <td>0.65</td>\n      <td>NaN</td>\n      <td>Unspecified</td>\n      <td>26.00</td>\n      <td>20.800</td>\n    </tr>\n    <tr>\n      <th>196613</th>\n      <td>553857</td>\n      <td>47021G</td>\n      <td>SET/6 BEAD COASTERS GAUZE BAG GOLD</td>\n      <td>48</td>\n      <td>19-05-2011 13.30</td>\n      <td>0.39</td>\n      <td>NaN</td>\n      <td>Unspecified</td>\n      <td>18.72</td>\n      <td>14.976</td>\n    </tr>\n    <tr>\n      <th>257284</th>\n      <td>559521</td>\n      <td>84077</td>\n      <td>WORLD WAR 2 GLIDERS ASSTD DESIGNS</td>\n      <td>48</td>\n      <td>08-07-2011 16.26</td>\n      <td>0.29</td>\n      <td>NaN</td>\n      <td>Unspecified</td>\n      <td>13.92</td>\n      <td>11.136</td>\n    </tr>\n    <tr>\n      <th>323417</th>\n      <td>565303</td>\n      <td>84077</td>\n      <td>WORLD WAR 2 GLIDERS ASSTD DESIGNS</td>\n      <td>48</td>\n      <td>02-09-2011 12.17</td>\n      <td>0.29</td>\n      <td>NaN</td>\n      <td>Unspecified</td>\n      <td>13.92</td>\n      <td>11.136</td>\n    </tr>\n  </tbody>\n</table>\n<p>541909 rows × 10 columns</p>\n</div>"
     },
     "execution_count": 17,
     "metadata": {},
     "output_type": "execute_result"
    }
   ],
   "source": [
    "cols = ['Country','Quantity']\n",
    "df.sort_values(cols)"
   ],
   "metadata": {
    "collapsed": false,
    "pycharm": {
     "name": "#%%\n"
    }
   }
  },
  {
   "cell_type": "code",
   "execution_count": 19,
   "outputs": [
    {
     "data": {
      "text/plain": "       InvoiceNo StockCode                          Description  Quantity  \\\n0         536365    85123A   WHITE HANGING HEART T-LIGHT HOLDER         6   \n1         536365     71053                  WHITE METAL LANTERN         6   \n2         536365    84406B       CREAM CUPID HEARTS COAT HANGER         8   \n3         536365    84029G  KNITTED UNION FLAG HOT WATER BOTTLE         6   \n4         536365    84029E       RED WOOLLY HOTTIE WHITE HEART.         6   \n...          ...       ...                                  ...       ...   \n541904    581587     22613          PACK OF 20 SPACEBOY NAPKINS        12   \n541905    581587     22899         CHILDREN'S APRON DOLLY GIRL          6   \n541906    581587     23254        CHILDRENS CUTLERY DOLLY GIRL          4   \n541907    581587     23255      CHILDRENS CUTLERY CIRCUS PARADE         4   \n541908    581587     22138        BAKING SET 9 PIECE RETROSPOT          3   \n\n             InvoiceDate  UnitPrice  CustomerID         Country  \\\n0        01-12-2010 8.26       2.55     17850.0  United Kingdom   \n1        01-12-2010 8.26       3.39     17850.0  United Kingdom   \n2        01-12-2010 8.26       2.75     17850.0  United Kingdom   \n3        01-12-2010 8.26       3.39     17850.0  United Kingdom   \n4        01-12-2010 8.26       3.39     17850.0  United Kingdom   \n...                  ...        ...         ...             ...   \n541904  09-12-2011 12.50       0.85     12680.0          France   \n541905  09-12-2011 12.50       2.10     12680.0          France   \n541906  09-12-2011 12.50       4.15     12680.0          France   \n541907  09-12-2011 12.50       4.15     12680.0          France   \n541908  09-12-2011 12.50       4.95     12680.0          France   \n\n        invoiceAmount     tax  \n0               15.30  12.240  \n1               20.34  16.272  \n2               22.00  17.600  \n3               20.34  16.272  \n4               20.34  16.272  \n...               ...     ...  \n541904          10.20   8.160  \n541905          12.60  10.080  \n541906          16.60  13.280  \n541907          16.60  13.280  \n541908          14.85  11.880  \n\n[541909 rows x 10 columns]",
      "text/html": "<div>\n<style scoped>\n    .dataframe tbody tr th:only-of-type {\n        vertical-align: middle;\n    }\n\n    .dataframe tbody tr th {\n        vertical-align: top;\n    }\n\n    .dataframe thead th {\n        text-align: right;\n    }\n</style>\n<table border=\"1\" class=\"dataframe\">\n  <thead>\n    <tr style=\"text-align: right;\">\n      <th></th>\n      <th>InvoiceNo</th>\n      <th>StockCode</th>\n      <th>Description</th>\n      <th>Quantity</th>\n      <th>InvoiceDate</th>\n      <th>UnitPrice</th>\n      <th>CustomerID</th>\n      <th>Country</th>\n      <th>invoiceAmount</th>\n      <th>tax</th>\n    </tr>\n  </thead>\n  <tbody>\n    <tr>\n      <th>0</th>\n      <td>536365</td>\n      <td>85123A</td>\n      <td>WHITE HANGING HEART T-LIGHT HOLDER</td>\n      <td>6</td>\n      <td>01-12-2010 8.26</td>\n      <td>2.55</td>\n      <td>17850.0</td>\n      <td>United Kingdom</td>\n      <td>15.30</td>\n      <td>12.240</td>\n    </tr>\n    <tr>\n      <th>1</th>\n      <td>536365</td>\n      <td>71053</td>\n      <td>WHITE METAL LANTERN</td>\n      <td>6</td>\n      <td>01-12-2010 8.26</td>\n      <td>3.39</td>\n      <td>17850.0</td>\n      <td>United Kingdom</td>\n      <td>20.34</td>\n      <td>16.272</td>\n    </tr>\n    <tr>\n      <th>2</th>\n      <td>536365</td>\n      <td>84406B</td>\n      <td>CREAM CUPID HEARTS COAT HANGER</td>\n      <td>8</td>\n      <td>01-12-2010 8.26</td>\n      <td>2.75</td>\n      <td>17850.0</td>\n      <td>United Kingdom</td>\n      <td>22.00</td>\n      <td>17.600</td>\n    </tr>\n    <tr>\n      <th>3</th>\n      <td>536365</td>\n      <td>84029G</td>\n      <td>KNITTED UNION FLAG HOT WATER BOTTLE</td>\n      <td>6</td>\n      <td>01-12-2010 8.26</td>\n      <td>3.39</td>\n      <td>17850.0</td>\n      <td>United Kingdom</td>\n      <td>20.34</td>\n      <td>16.272</td>\n    </tr>\n    <tr>\n      <th>4</th>\n      <td>536365</td>\n      <td>84029E</td>\n      <td>RED WOOLLY HOTTIE WHITE HEART.</td>\n      <td>6</td>\n      <td>01-12-2010 8.26</td>\n      <td>3.39</td>\n      <td>17850.0</td>\n      <td>United Kingdom</td>\n      <td>20.34</td>\n      <td>16.272</td>\n    </tr>\n    <tr>\n      <th>...</th>\n      <td>...</td>\n      <td>...</td>\n      <td>...</td>\n      <td>...</td>\n      <td>...</td>\n      <td>...</td>\n      <td>...</td>\n      <td>...</td>\n      <td>...</td>\n      <td>...</td>\n    </tr>\n    <tr>\n      <th>541904</th>\n      <td>581587</td>\n      <td>22613</td>\n      <td>PACK OF 20 SPACEBOY NAPKINS</td>\n      <td>12</td>\n      <td>09-12-2011 12.50</td>\n      <td>0.85</td>\n      <td>12680.0</td>\n      <td>France</td>\n      <td>10.20</td>\n      <td>8.160</td>\n    </tr>\n    <tr>\n      <th>541905</th>\n      <td>581587</td>\n      <td>22899</td>\n      <td>CHILDREN'S APRON DOLLY GIRL</td>\n      <td>6</td>\n      <td>09-12-2011 12.50</td>\n      <td>2.10</td>\n      <td>12680.0</td>\n      <td>France</td>\n      <td>12.60</td>\n      <td>10.080</td>\n    </tr>\n    <tr>\n      <th>541906</th>\n      <td>581587</td>\n      <td>23254</td>\n      <td>CHILDRENS CUTLERY DOLLY GIRL</td>\n      <td>4</td>\n      <td>09-12-2011 12.50</td>\n      <td>4.15</td>\n      <td>12680.0</td>\n      <td>France</td>\n      <td>16.60</td>\n      <td>13.280</td>\n    </tr>\n    <tr>\n      <th>541907</th>\n      <td>581587</td>\n      <td>23255</td>\n      <td>CHILDRENS CUTLERY CIRCUS PARADE</td>\n      <td>4</td>\n      <td>09-12-2011 12.50</td>\n      <td>4.15</td>\n      <td>12680.0</td>\n      <td>France</td>\n      <td>16.60</td>\n      <td>13.280</td>\n    </tr>\n    <tr>\n      <th>541908</th>\n      <td>581587</td>\n      <td>22138</td>\n      <td>BAKING SET 9 PIECE RETROSPOT</td>\n      <td>3</td>\n      <td>09-12-2011 12.50</td>\n      <td>4.95</td>\n      <td>12680.0</td>\n      <td>France</td>\n      <td>14.85</td>\n      <td>11.880</td>\n    </tr>\n  </tbody>\n</table>\n<p>541909 rows × 10 columns</p>\n</div>"
     },
     "execution_count": 19,
     "metadata": {},
     "output_type": "execute_result"
    }
   ],
   "source": [
    "df.sort_index()"
   ],
   "metadata": {
    "collapsed": false,
    "pycharm": {
     "name": "#%%\n"
    }
   }
  },
  {
   "cell_type": "markdown",
   "source": [
    "## 2 major sort functions\n",
    "sort_values() : You use this to sort the Pandas DataFrame by one or more columns.<br>\n",
    "sort_index() : You use this to sort the Pandas DataFrame by the row index"
   ],
   "metadata": {
    "collapsed": false,
    "pycharm": {
     "name": "#%% md\n"
    }
   }
  },
  {
   "cell_type": "code",
   "execution_count": null,
   "outputs": [],
   "source": [],
   "metadata": {
    "collapsed": false,
    "pycharm": {
     "name": "#%%\n"
    }
   }
  }
 ],
 "metadata": {
  "kernelspec": {
   "display_name": "Python 3",
   "language": "python",
   "name": "python3"
  },
  "language_info": {
   "codemirror_mode": {
    "name": "ipython",
    "version": 2
   },
   "file_extension": ".py",
   "mimetype": "text/x-python",
   "name": "python",
   "nbconvert_exporter": "python",
   "pygments_lexer": "ipython2",
   "version": "2.7.6"
  }
 },
 "nbformat": 4,
 "nbformat_minor": 0
}