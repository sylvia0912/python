{
 "cells": [
  {
   "cell_type": "markdown",
   "source": [
    "# Connection- Extract Data from Postgres Database server"
   ],
   "metadata": {
    "collapsed": false,
    "pycharm": {
     "name": "#%% md\n"
    }
   }
  },
  {
   "cell_type": "code",
   "execution_count": 8,
   "outputs": [],
   "source": [
    "# POstGreSQL GUI client is PgAdmin & backend python client is psycopg2\n",
    "\n",
    "import psycopg2 as pg2;\n",
    "import pandas as pd;"
   ],
   "metadata": {
    "collapsed": false,
    "pycharm": {
     "name": "#%%\n"
    }
   }
  },
  {
   "cell_type": "code",
   "execution_count": 9,
   "outputs": [],
   "source": [
    "# Connect to Postgres DB server\n",
    "\n",
    "conn = pg2.connect(database = 'telco', user='postgres', password='password')"
   ],
   "metadata": {
    "collapsed": false,
    "pycharm": {
     "name": "#%%\n"
    }
   }
  },
  {
   "cell_type": "code",
   "execution_count": 10,
   "outputs": [],
   "source": [
    "# Retrieve cursor\n",
    "cur = conn.cursor()"
   ],
   "metadata": {
    "collapsed": false,
    "pycharm": {
     "name": "#%%\n"
    }
   }
  },
  {
   "cell_type": "code",
   "execution_count": 11,
   "outputs": [],
   "source": [
    "# Use cursor object to execute sql queries\n",
    "cur.execute('SELECT gender,\"Contract\",\"Churn\" FROM dashboard.customer;')"
   ],
   "metadata": {
    "collapsed": false,
    "pycharm": {
     "name": "#%%\n"
    }
   }
  },
  {
   "cell_type": "code",
   "execution_count": 12,
   "outputs": [],
   "source": [
    "data_list = cur.fetchall()"
   ],
   "metadata": {
    "collapsed": false,
    "pycharm": {
     "name": "#%%\n"
    }
   }
  },
  {
   "cell_type": "code",
   "execution_count": 13,
   "outputs": [
    {
     "data": {
      "text/plain": "[('Female', 'Month-to-month', 'No'),\n ('Male', 'One year', 'No'),\n ('Male', 'Month-to-month', 'Yes'),\n ('Male', 'One year', 'No'),\n ('Female', 'Month-to-month', 'Yes'),\n ('Female', 'Month-to-month', 'Yes'),\n ('Male', 'Month-to-month', 'No'),\n ('Female', 'Month-to-month', 'No'),\n ('Female', 'Month-to-month', 'Yes'),\n ('Male', 'One year', 'No'),\n ('Male', 'Month-to-month', 'No'),\n ('Male', 'Two year', 'No'),\n ('Male', 'One year', 'No'),\n ('Male', 'Month-to-month', 'Yes'),\n ('Male', 'Month-to-month', 'No'),\n ('Female', 'Two year', 'No'),\n ('Female', 'One year', 'No'),\n ('Male', 'Two year', 'No'),\n ('Female', 'Month-to-month', 'Yes'),\n ('Female', 'Month-to-month', 'No'),\n ('Male', 'Month-to-month', 'Yes'),\n ('Male', 'One year', 'No'),\n ('Male', 'Month-to-month', 'Yes'),\n ('Female', 'Two year', 'No'),\n ('Male', 'Month-to-month', 'No'),\n ('Female', 'Month-to-month', 'No'),\n ('Male', 'Month-to-month', 'Yes'),\n ('Male', 'Month-to-month', 'Yes'),\n ('Male', 'Two year', 'No'),\n ('Female', 'Month-to-month', 'Yes'),\n ('Female', 'Two year', 'No'),\n ('Male', 'Month-to-month', 'No'),\n ('Female', 'One year', 'No'),\n ('Male', 'Month-to-month', 'No'),\n ('Male', 'Month-to-month', 'No'),\n ('Female', 'Two year', 'No'),\n ('Male', 'Month-to-month', 'Yes'),\n ('Female', 'Month-to-month', 'No'),\n ('Male', 'Month-to-month', 'Yes'),\n ('Female', 'Month-to-month', 'Yes'),\n ('Male', 'One year', 'No'),\n ('Female', 'Two year', 'No'),\n ('Female', 'One year', 'No'),\n ('Female', 'Two year', 'No'),\n ('Female', 'Month-to-month', 'No'),\n ('Female', 'Month-to-month', 'No'),\n ('Male', 'Month-to-month', 'No'),\n ('Female', 'Month-to-month', 'Yes'),\n ('Male', 'Two year', 'No'),\n ('Female', 'Two year', 'No'),\n ('Female', 'Month-to-month', 'No'),\n ('Female', 'Month-to-month', 'Yes'),\n ('Female', 'Month-to-month', 'No'),\n ('Female', 'Month-to-month', 'Yes'),\n ('Female', 'One year', 'No'),\n ('Male', 'Month-to-month', 'Yes'),\n ('Female', 'One year', 'No'),\n ('Male', 'One year', 'No'),\n ('Female', 'Two year', 'No'),\n ('Female', 'Two year', 'No'),\n ('Female', 'Month-to-month', 'No'),\n ('Male', 'Month-to-month', 'No'),\n ('Male', 'Two year', 'No'),\n ('Female', 'One year', 'No'),\n ('Female', 'Month-to-month', 'Yes'),\n ('Female', 'Month-to-month', 'No'),\n ('Male', 'One year', 'No'),\n ('Female', 'Two year', 'No'),\n ('Female', 'Two year', 'No'),\n ('Male', 'Month-to-month', 'No'),\n ('Male', 'Month-to-month', 'No'),\n ('Female', 'One year', 'No'),\n ('Male', 'Two year', 'No'),\n ('Male', 'Two year', 'No'),\n ('Female', 'Month-to-month', 'No'),\n ('Female', 'One year', 'No'),\n ('Female', 'One year', 'No'),\n ('Female', 'Month-to-month', 'No'),\n ('Male', 'Month-to-month', 'No'),\n ('Female', 'One year', 'No'),\n ('Female', 'Month-to-month', 'Yes'),\n ('Female', 'Month-to-month', 'No'),\n ('Female', 'Month-to-month', 'Yes'),\n ('Female', 'Month-to-month', 'No'),\n ('Female', 'Two year', 'No'),\n ('Male', 'Month-to-month', 'No'),\n ('Female', 'One year', 'No'),\n ('Female', 'Two year', 'No'),\n ('Female', 'Two year', 'No'),\n ('Male', 'Month-to-month', 'No'),\n ('Male', 'Month-to-month', 'No'),\n ('Male', 'Month-to-month', 'No'),\n ('Male', 'Two year', 'No'),\n ('Female', 'Month-to-month', 'No'),\n ('Male', 'Two year', 'No'),\n ('Female', 'Month-to-month', 'Yes'),\n ('Male', 'One year', 'No'),\n ('Male', 'Month-to-month', 'Yes'),\n ('Male', 'Two year', 'No'),\n ('Female', 'Month-to-month', 'Yes'),\n ('Male', 'Month-to-month', 'No'),\n ('Female', 'Month-to-month', 'No'),\n ('Male', 'One year', 'No'),\n ('Female', 'One year', 'No'),\n ('Male', 'Two year', 'Yes'),\n ('Male', 'Month-to-month', 'No'),\n ('Female', 'One year', 'No'),\n ('Female', 'One year', 'No'),\n ('Male', 'One year', 'No'),\n ('Male', 'Two year', 'No'),\n ('Male', 'Month-to-month', 'Yes'),\n ('Female', 'One year', 'No'),\n ('Female', 'Month-to-month', 'No'),\n ('Female', 'Month-to-month', 'Yes'),\n ('Female', 'Two year', 'No'),\n ('Male', 'Month-to-month', 'No'),\n ('Female', 'Two year', 'No'),\n ('Female', 'Month-to-month', 'Yes'),\n ('Female', 'Two year', 'No'),\n ('Male', 'Month-to-month', 'No'),\n ('Female', 'One year', 'No'),\n ('Female', 'Month-to-month', 'No'),\n ('Male', 'Month-to-month', 'Yes'),\n ('Female', 'Month-to-month', 'No'),\n ('Female', 'Month-to-month', 'No'),\n ('Male', 'Two year', 'No'),\n ('Female', 'Month-to-month', 'Yes'),\n ('Male', 'Two year', 'No'),\n ('Male', 'Month-to-month', 'No'),\n ('Male', 'One year', 'No'),\n ('Female', 'Month-to-month', 'No'),\n ('Female', 'Month-to-month', 'Yes'),\n ('Male', 'Two year', 'No'),\n ('Male', 'Month-to-month', 'Yes'),\n ('Male', 'Month-to-month', 'Yes'),\n ('Female', 'Two year', 'No'),\n ('Female', 'Month-to-month', 'No'),\n ('Female', 'Two year', 'No'),\n ('Male', 'Two year', 'No'),\n ('Female', 'Month-to-month', 'Yes'),\n ('Female', 'Two year', 'No'),\n ('Female', 'Month-to-month', 'Yes'),\n ('Female', 'Two year', 'No'),\n ('Male', 'One year', 'No'),\n ('Male', 'Two year', 'No'),\n ('Female', 'Two year', 'No'),\n ('Male', 'One year', 'No'),\n ('Male', 'Month-to-month', 'Yes'),\n ('Male', 'One year', 'No'),\n ('Male', 'Month-to-month', 'No'),\n ('Female', 'Month-to-month', 'No'),\n ('Male', 'Month-to-month', 'Yes'),\n ('Female', 'One year', 'No'),\n ('Male', 'Two year', 'No'),\n ('Female', 'Month-to-month', 'No'),\n ('Female', 'Month-to-month', 'No'),\n ('Female', 'Month-to-month', 'No'),\n ('Male', 'One year', 'No'),\n ('Male', 'Two year', 'No'),\n ('Male', 'Two year', 'No'),\n ('Female', 'Month-to-month', 'No'),\n ('Female', 'Month-to-month', 'Yes'),\n ('Female', 'Month-to-month', 'No'),\n ('Male', 'Two year', 'No'),\n ('Female', 'One year', 'No'),\n ('Male', 'Two year', 'No'),\n ('Female', 'Month-to-month', 'Yes'),\n ('Male', 'Two year', 'No'),\n ('Male', 'Month-to-month', 'Yes'),\n ('Female', 'Month-to-month', 'No'),\n ('Male', 'One year', 'No'),\n ('Female', 'Month-to-month', 'Yes'),\n ('Male', 'Two year', 'No'),\n ('Female', 'One year', 'Yes'),\n ('Female', 'One year', 'No'),\n ('Female', 'Month-to-month', 'No'),\n ('Female', 'Month-to-month', 'Yes'),\n ('Female', 'Month-to-month', 'Yes'),\n ('Female', 'Month-to-month', 'No'),\n ('Male', 'One year', 'No'),\n ('Female', 'Month-to-month', 'Yes'),\n ('Female', 'Month-to-month', 'No'),\n ('Male', 'Month-to-month', 'Yes'),\n ('Male', 'One year', 'No'),\n ('Female', 'Month-to-month', 'Yes'),\n ('Female', 'Month-to-month', 'Yes'),\n ('Male', 'Month-to-month', 'No'),\n ('Male', 'Month-to-month', 'No'),\n ('Female', 'One year', 'No'),\n ('Female', 'Month-to-month', 'No'),\n ('Male', 'One year', 'No'),\n ('Male', 'Month-to-month', 'Yes'),\n ('Female', 'Two year', 'No'),\n ('Female', 'Two year', 'No'),\n ('Male', 'Two year', 'No'),\n ('Female', 'Month-to-month', 'No'),\n ('Male', 'Two year', 'No'),\n ('Male', 'Month-to-month', 'No'),\n ('Male', 'Two year', 'No'),\n ('Male', 'Month-to-month', 'No'),\n ('Female', 'One year', 'No'),\n ('Female', 'Month-to-month', 'No'),\n ('Male', 'Two year', 'No'),\n ('Male', 'Month-to-month', 'No'),\n ('Male', 'Month-to-month', 'No'),\n ('Female', 'One year', 'No'),\n ('Male', 'Two year', 'No'),\n ('Male', 'Month-to-month', 'Yes'),\n ('Female', 'Month-to-month', 'Yes'),\n ('Male', 'One year', 'No'),\n ('Male', 'Month-to-month', 'Yes'),\n ('Female', 'Month-to-month', 'No'),\n ('Male', 'Two year', 'No'),\n ('Female', 'One year', 'No'),\n ('Male', 'Month-to-month', 'No'),\n ('Female', 'Month-to-month', 'No'),\n ('Male', 'Two year', 'No'),\n ('Male', 'Two year', 'No'),\n ('Male', 'Two year', 'No'),\n ('Female', 'Month-to-month', 'No'),\n ('Female', 'Month-to-month', 'Yes'),\n ('Female', 'Two year', 'No'),\n ('Male', 'One year', 'No'),\n ('Male', 'Month-to-month', 'Yes'),\n ('Female', 'One year', 'No'),\n ('Male', 'One year', 'No'),\n ('Female', 'One year', 'No'),\n ('Female', 'Month-to-month', 'Yes'),\n ('Male', 'Month-to-month', 'No'),\n ('Female', 'Two year', 'No'),\n ('Male', 'Two year', 'No'),\n ('Male', 'Month-to-month', 'No'),\n ('Male', 'Month-to-month', 'Yes'),\n ('Female', 'Two year', 'No'),\n ('Female', 'Month-to-month', 'No'),\n ('Male', 'Month-to-month', 'Yes'),\n ('Female', 'Two year', 'No'),\n ('Male', 'Month-to-month', 'No'),\n ('Female', 'Month-to-month', 'Yes'),\n ('Male', 'Two year', 'No'),\n ('Female', 'Two year', 'No'),\n ('Male', 'Two year', 'No'),\n ('Female', 'One year', 'No'),\n ('Female', 'Month-to-month', 'No'),\n ('Female', 'Month-to-month', 'No'),\n ('Male', 'Month-to-month', 'No'),\n ('Male', 'One year', 'No'),\n ('Male', 'Month-to-month', 'Yes'),\n ('Male', 'Month-to-month', 'Yes'),\n ('Male', 'One year', 'No'),\n ('Female', 'One year', 'No'),\n ('Female', 'Month-to-month', 'Yes'),\n ('Male', 'Month-to-month', 'Yes'),\n ('Male', 'One year', 'No'),\n ('Male', 'Month-to-month', 'No'),\n ('Female', 'Two year', 'No'),\n ('Female', 'Two year', 'No'),\n ('Male', 'One year', 'No'),\n ('Female', 'Month-to-month', 'Yes'),\n ('Female', 'Month-to-month', 'No'),\n ('Male', 'Month-to-month', 'Yes'),\n ('Male', 'Month-to-month', 'Yes'),\n ('Male', 'Month-to-month', 'No'),\n ('Female', 'Two year', 'No'),\n ('Female', 'One year', 'No'),\n ('Female', 'Two year', 'No'),\n ('Male', 'Two year', 'No'),\n ('Female', 'Month-to-month', 'No'),\n ('Male', 'Two year', 'Yes'),\n ('Female', 'Two year', 'No'),\n ('Female', 'Month-to-month', 'Yes'),\n ('Male', 'Two year', 'No'),\n ('Male', 'Month-to-month', 'Yes'),\n ('Male', 'Month-to-month', 'No'),\n ('Male', 'Month-to-month', 'Yes'),\n ('Male', 'Month-to-month', 'Yes'),\n ('Female', 'Month-to-month', 'Yes'),\n ('Male', 'Month-to-month', 'No'),\n ('Male', 'Month-to-month', 'No'),\n ('Female', 'Month-to-month', 'No'),\n ('Female', 'Month-to-month', 'No'),\n ('Female', 'Month-to-month', 'No'),\n ('Female', 'Month-to-month', 'No'),\n ('Female', 'Month-to-month', 'No'),\n ('Male', 'Month-to-month', 'Yes'),\n ('Female', 'One year', 'No'),\n ('Female', 'Month-to-month', 'No'),\n ('Male', 'Month-to-month', 'Yes'),\n ('Male', 'Month-to-month', 'Yes'),\n ('Male', 'Month-to-month', 'Yes'),\n ('Male', 'Month-to-month', 'Yes'),\n ('Male', 'One year', 'No'),\n ('Male', 'One year', 'No'),\n ('Female', 'Month-to-month', 'No'),\n ('Female', 'Month-to-month', 'No'),\n ('Male', 'Month-to-month', 'No'),\n ('Female', 'Two year', 'No'),\n ('Male', 'Month-to-month', 'No'),\n ('Male', 'Month-to-month', 'No'),\n ('Female', 'Month-to-month', 'Yes'),\n ('Male', 'One year', 'No'),\n ('Female', 'Month-to-month', 'Yes'),\n ('Male', 'Month-to-month', 'No'),\n ('Female', 'Two year', 'No'),\n ('Male', 'Month-to-month', 'No'),\n ('Male', 'Two year', 'No'),\n ('Male', 'Month-to-month', 'Yes'),\n ('Male', 'Two year', 'No'),\n ('Male', 'Month-to-month', 'No'),\n ('Male', 'One year', 'No'),\n ('Female', 'Month-to-month', 'No'),\n ('Female', 'Month-to-month', 'No'),\n ('Female', 'Two year', 'No'),\n ('Female', 'Month-to-month', 'No'),\n ('Male', 'Month-to-month', 'Yes'),\n ('Male', 'One year', 'No'),\n ('Male', 'Two year', 'No'),\n ('Female', 'One year', 'Yes'),\n ('Male', 'Month-to-month', 'Yes'),\n ('Male', 'Month-to-month', 'No'),\n ('Female', 'One year', 'Yes'),\n ('Female', 'Two year', 'No'),\n ('Male', 'Month-to-month', 'No'),\n ('Female', 'One year', 'No'),\n ('Male', 'Two year', 'No'),\n ('Female', 'Month-to-month', 'No'),\n ('Female', 'Month-to-month', 'No'),\n ('Female', 'Month-to-month', 'Yes'),\n ('Female', 'Month-to-month', 'No'),\n ('Female', 'Month-to-month', 'No'),\n ('Female', 'Two year', 'No'),\n ('Female', 'One year', 'No'),\n ('Male', 'One year', 'No'),\n ('Female', 'Month-to-month', 'Yes'),\n ('Female', 'Month-to-month', 'Yes'),\n ('Male', 'One year', 'Yes'),\n ('Female', 'Two year', 'Yes'),\n ('Female', 'Two year', 'No'),\n ('Female', 'Month-to-month', 'No'),\n ('Male', 'Month-to-month', 'Yes'),\n ('Female', 'Month-to-month', 'No'),\n ('Female', 'Two year', 'No'),\n ('Female', 'Month-to-month', 'No'),\n ('Male', 'One year', 'No'),\n ('Female', 'One year', 'No'),\n ('Female', 'Month-to-month', 'No'),\n ('Female', 'Month-to-month', 'Yes'),\n ('Female', 'Two year', 'No'),\n ('Female', 'Month-to-month', 'No'),\n ('Female', 'One year', 'No'),\n ('Male', 'Two year', 'No'),\n ('Male', 'One year', 'No'),\n ('Female', 'Month-to-month', 'No'),\n ('Male', 'Month-to-month', 'Yes'),\n ('Female', 'Month-to-month', 'Yes'),\n ('Female', 'Month-to-month', 'Yes'),\n ('Female', 'Month-to-month', 'No'),\n ('Male', 'Two year', 'No'),\n ('Male', 'Month-to-month', 'Yes'),\n ('Male', 'One year', 'No'),\n ('Male', 'Month-to-month', 'No'),\n ('Female', 'Two year', 'No'),\n ('Male', 'One year', 'No'),\n ('Female', 'Two year', 'No'),\n ('Male', 'Month-to-month', 'No'),\n ('Male', 'Month-to-month', 'Yes'),\n ('Male', 'Month-to-month', 'No'),\n ('Female', 'Month-to-month', 'No'),\n ('Male', 'One year', 'No'),\n ('Male', 'Two year', 'No'),\n ('Male', 'One year', 'No'),\n ('Male', 'Month-to-month', 'Yes'),\n ('Male', 'Two year', 'No'),\n ('Female', 'One year', 'No'),\n ('Male', 'Month-to-month', 'No'),\n ('Female', 'One year', 'No'),\n ('Male', 'Month-to-month', 'No'),\n ('Female', 'Month-to-month', 'Yes'),\n ('Female', 'Two year', 'No'),\n ('Male', 'One year', 'No'),\n ('Female', 'One year', 'No'),\n ('Male', 'Month-to-month', 'Yes'),\n ('Male', 'Two year', 'No'),\n ('Male', 'Month-to-month', 'Yes'),\n ('Male', 'Two year', 'No'),\n ('Male', 'Month-to-month', 'Yes'),\n ('Female', 'Month-to-month', 'Yes'),\n ('Female', 'One year', 'No'),\n ('Male', 'Month-to-month', 'No'),\n ('Male', 'Month-to-month', 'No'),\n ('Female', 'Month-to-month', 'No'),\n ('Male', 'Month-to-month', 'No'),\n ('Female', 'Month-to-month', 'No'),\n ('Female', 'Month-to-month', 'No'),\n ('Female', 'Month-to-month', 'No'),\n ('Female', 'Two year', 'No'),\n ('Male', 'Month-to-month', 'No'),\n ('Female', 'Month-to-month', 'Yes'),\n ('Male', 'Month-to-month', 'No'),\n ('Female', 'One year', 'No'),\n ('Female', 'One year', 'No'),\n ('Female', 'One year', 'No'),\n ('Male', 'Month-to-month', 'Yes'),\n ('Female', 'One year', 'No'),\n ('Male', 'Two year', 'No'),\n ('Male', 'Two year', 'No'),\n ('Male', 'One year', 'No'),\n ('Male', 'Month-to-month', 'No'),\n ('Female', 'Month-to-month', 'Yes'),\n ('Male', 'Month-to-month', 'Yes'),\n ('Male', 'Month-to-month', 'Yes'),\n ('Female', 'One year', 'No'),\n ('Female', 'Month-to-month', 'No'),\n ('Male', 'Month-to-month', 'No'),\n ('Female', 'Month-to-month', 'No'),\n ('Female', 'Month-to-month', 'No'),\n ('Male', 'Two year', 'No'),\n ('Female', 'Two year', 'No'),\n ('Female', 'Month-to-month', 'Yes'),\n ('Female', 'Month-to-month', 'Yes'),\n ('Female', 'Month-to-month', 'No'),\n ('Female', 'Month-to-month', 'No'),\n ('Male', 'One year', 'No'),\n ('Male', 'One year', 'No'),\n ('Female', 'Month-to-month', 'No'),\n ('Female', 'Month-to-month', 'No'),\n ('Male', 'One year', 'No'),\n ('Female', 'Month-to-month', 'No'),\n ('Male', 'Month-to-month', 'No'),\n ('Female', 'One year', 'No'),\n ('Female', 'Month-to-month', 'Yes'),\n ('Female', 'Two year', 'No'),\n ('Male', 'Month-to-month', 'No'),\n ('Male', 'Month-to-month', 'Yes'),\n ('Male', 'Two year', 'No'),\n ('Female', 'Month-to-month', 'No'),\n ('Male', 'One year', 'No'),\n ('Male', 'Two year', 'No'),\n ('Male', 'Month-to-month', 'No'),\n ('Male', 'Month-to-month', 'No'),\n ('Female', 'Month-to-month', 'No'),\n ('Female', 'Month-to-month', 'No'),\n ('Female', 'One year', 'No'),\n ('Female', 'Month-to-month', 'No'),\n ('Female', 'Month-to-month', 'No'),\n ('Female', 'Month-to-month', 'Yes'),\n ('Female', 'Month-to-month', 'Yes'),\n ('Female', 'Two year', 'No'),\n ('Male', 'Month-to-month', 'No'),\n ('Male', 'Two year', 'No'),\n ('Female', 'One year', 'No'),\n ('Female', 'Month-to-month', 'No'),\n ('Male', 'Month-to-month', 'No'),\n ('Female', 'Month-to-month', 'Yes'),\n ('Female', 'Two year', 'No'),\n ('Female', 'Month-to-month', 'No'),\n ('Male', 'One year', 'No'),\n ('Female', 'Two year', 'No'),\n ('Male', 'Month-to-month', 'No'),\n ('Male', 'Month-to-month', 'No'),\n ('Male', 'Month-to-month', 'No'),\n ('Female', 'Month-to-month', 'No'),\n ('Male', 'Month-to-month', 'Yes'),\n ('Male', 'Month-to-month', 'Yes'),\n ('Male', 'Two year', 'No'),\n ('Male', 'Two year', 'No'),\n ('Male', 'Two year', 'No'),\n ('Male', 'One year', 'No'),\n ('Female', 'Two year', 'No'),\n ('Female', 'Month-to-month', 'Yes'),\n ('Female', 'One year', 'No'),\n ('Male', 'Month-to-month', 'Yes'),\n ('Male', 'Month-to-month', 'No'),\n ('Male', 'Month-to-month', 'No'),\n ('Female', 'Month-to-month', 'Yes'),\n ('Male', 'Month-to-month', 'Yes'),\n ('Male', 'Month-to-month', 'No'),\n ('Female', 'Month-to-month', 'No'),\n ('Male', 'Month-to-month', 'Yes'),\n ('Female', 'Month-to-month', 'Yes'),\n ('Male', 'Two year', 'No'),\n ('Female', 'Month-to-month', 'Yes'),\n ('Female', 'Month-to-month', 'No'),\n ('Female', 'One year', 'No'),\n ('Female', 'Month-to-month', 'Yes'),\n ('Male', 'Two year', 'No'),\n ('Female', 'Month-to-month', 'No'),\n ('Male', 'Two year', 'No'),\n ('Male', 'Month-to-month', 'Yes'),\n ('Male', 'Two year', 'No'),\n ('Female', 'Month-to-month', 'No'),\n ('Female', 'Month-to-month', 'Yes'),\n ('Male', 'One year', 'No'),\n ('Male', 'Month-to-month', 'No'),\n ('Male', 'One year', 'Yes'),\n ('Male', 'Month-to-month', 'No'),\n ('Female', 'Two year', 'No'),\n ('Female', 'Month-to-month', 'Yes'),\n ('Female', 'Month-to-month', 'Yes'),\n ('Male', 'One year', 'No'),\n ('Female', 'Two year', 'No'),\n ('Female', 'One year', 'No'),\n ('Female', 'Month-to-month', 'No'),\n ('Male', 'Two year', 'No'),\n ('Female', 'Month-to-month', 'Yes'),\n ('Male', 'Month-to-month', 'No'),\n ('Male', 'Month-to-month', 'Yes'),\n ('Female', 'Month-to-month', 'Yes'),\n ('Female', 'Month-to-month', 'No'),\n ('Male', 'One year', 'No'),\n ('Male', 'Month-to-month', 'No'),\n ('Female', 'Month-to-month', 'Yes'),\n ('Female', 'Month-to-month', 'No'),\n ('Male', 'Month-to-month', 'No'),\n ('Male', 'Month-to-month', 'Yes'),\n ('Female', 'One year', 'No'),\n ('Female', 'Month-to-month', 'No'),\n ('Female', 'Month-to-month', 'Yes'),\n ('Male', 'Month-to-month', 'No'),\n ('Male', 'One year', 'No'),\n ('Male', 'Month-to-month', 'No'),\n ('Male', 'Month-to-month', 'No'),\n ('Female', 'Month-to-month', 'Yes'),\n ('Male', 'Month-to-month', 'Yes'),\n ('Male', 'One year', 'No'),\n ('Male', 'Two year', 'No'),\n ('Male', 'One year', 'No'),\n ('Male', 'Two year', 'No'),\n ('Female', 'Two year', 'No'),\n ('Female', 'Two year', 'No'),\n ('Male', 'Two year', 'No'),\n ('Male', 'Month-to-month', 'No'),\n ('Male', 'One year', 'No'),\n ('Female', 'Month-to-month', 'Yes'),\n ('Male', 'Month-to-month', 'No'),\n ('Female', 'Month-to-month', 'No'),\n ('Female', 'One year', 'No'),\n ('Female', 'One year', 'No'),\n ('Female', 'Two year', 'No'),\n ('Female', 'Two year', 'No'),\n ('Female', 'Month-to-month', 'No'),\n ('Female', 'Month-to-month', 'No'),\n ('Male', 'Month-to-month', 'Yes'),\n ('Male', 'Month-to-month', 'Yes'),\n ('Male', 'One year', 'No'),\n ('Male', 'Month-to-month', 'Yes'),\n ('Female', 'One year', 'No'),\n ('Male', 'One year', 'No'),\n ('Male', 'Month-to-month', 'No'),\n ('Male', 'Two year', 'No'),\n ('Female', 'Two year', 'No'),\n ('Male', 'Two year', 'No'),\n ('Female', 'Two year', 'No'),\n ('Male', 'Month-to-month', 'Yes'),\n ('Female', 'One year', 'No'),\n ('Female', 'Month-to-month', 'No'),\n ('Male', 'One year', 'No'),\n ('Male', 'Month-to-month', 'No'),\n ('Male', 'Month-to-month', 'No'),\n ('Male', 'One year', 'No'),\n ('Male', 'Month-to-month', 'No'),\n ('Male', 'Month-to-month', 'No'),\n ('Male', 'Two year', 'No'),\n ('Male', 'Month-to-month', 'No'),\n ('Male', 'Two year', 'No'),\n ('Male', 'One year', 'No'),\n ('Male', 'Two year', 'No'),\n ('Female', 'Month-to-month', 'Yes'),\n ('Female', 'One year', 'No'),\n ('Female', 'Two year', 'No'),\n ('Male', 'Two year', 'No'),\n ('Female', 'One year', 'No'),\n ('Male', 'One year', 'Yes'),\n ('Female', 'Month-to-month', 'No'),\n ('Male', 'Two year', 'No'),\n ('Male', 'One year', 'No'),\n ('Male', 'Month-to-month', 'No'),\n ('Male', 'Month-to-month', 'No'),\n ('Male', 'Month-to-month', 'No'),\n ('Female', 'Month-to-month', 'Yes'),\n ('Female', 'Month-to-month', 'Yes'),\n ('Female', 'Month-to-month', 'Yes'),\n ('Female', 'Month-to-month', 'No'),\n ('Female', 'Month-to-month', 'No'),\n ('Female', 'Month-to-month', 'Yes'),\n ('Male', 'Two year', 'No'),\n ('Male', 'One year', 'No'),\n ('Male', 'Two year', 'No'),\n ('Male', 'Two year', 'No'),\n ('Male', 'Two year', 'No'),\n ('Male', 'One year', 'No'),\n ('Male', 'Two year', 'No'),\n ('Male', 'Month-to-month', 'No'),\n ('Male', 'Month-to-month', 'No'),\n ('Female', 'Month-to-month', 'Yes'),\n ('Male', 'Two year', 'No'),\n ('Male', 'Month-to-month', 'No'),\n ('Male', 'One year', 'No'),\n ('Male', 'Two year', 'No'),\n ('Male', 'Month-to-month', 'No'),\n ('Male', 'One year', 'No'),\n ('Female', 'One year', 'No'),\n ('Male', 'Two year', 'No'),\n ('Female', 'One year', 'No'),\n ('Male', 'Two year', 'No'),\n ('Male', 'Two year', 'No'),\n ('Male', 'One year', 'No'),\n ('Male', 'Two year', 'No'),\n ('Female', 'Month-to-month', 'Yes'),\n ('Male', 'Month-to-month', 'Yes'),\n ('Female', 'Month-to-month', 'Yes'),\n ('Male', 'Two year', 'No'),\n ('Female', 'One year', 'No'),\n ('Male', 'Two year', 'No'),\n ('Female', 'Month-to-month', 'No'),\n ('Male', 'Month-to-month', 'No'),\n ('Female', 'One year', 'No'),\n ('Female', 'Month-to-month', 'No'),\n ('Female', 'Month-to-month', 'No'),\n ('Male', 'Month-to-month', 'No'),\n ('Female', 'One year', 'No'),\n ('Male', 'One year', 'No'),\n ('Female', 'Two year', 'No'),\n ('Female', 'Month-to-month', 'Yes'),\n ('Female', 'Month-to-month', 'No'),\n ('Male', 'Month-to-month', 'No'),\n ('Female', 'One year', 'No'),\n ('Female', 'Two year', 'No'),\n ('Male', 'Month-to-month', 'Yes'),\n ('Male', 'Month-to-month', 'Yes'),\n ('Female', 'Month-to-month', 'No'),\n ('Male', 'Two year', 'No'),\n ('Male', 'One year', 'No'),\n ('Female', 'One year', 'No'),\n ('Female', 'Month-to-month', 'Yes'),\n ('Male', 'Two year', 'No'),\n ('Female', 'Two year', 'No'),\n ('Male', 'One year', 'Yes'),\n ('Male', 'Month-to-month', 'Yes'),\n ('Male', 'Two year', 'No'),\n ('Female', 'Month-to-month', 'Yes'),\n ('Male', 'Month-to-month', 'Yes'),\n ('Female', 'One year', 'No'),\n ('Female', 'Month-to-month', 'No'),\n ('Male', 'Month-to-month', 'Yes'),\n ('Male', 'Month-to-month', 'Yes'),\n ('Male', 'One year', 'No'),\n ('Female', 'Month-to-month', 'Yes'),\n ('Male', 'Month-to-month', 'No'),\n ('Female', 'Month-to-month', 'Yes'),\n ('Female', 'Month-to-month', 'Yes'),\n ('Male', 'Two year', 'No'),\n ('Female', 'Month-to-month', 'No'),\n ('Female', 'Month-to-month', 'Yes'),\n ('Male', 'Month-to-month', 'No'),\n ('Male', 'Two year', 'No'),\n ('Male', 'One year', 'No'),\n ('Male', 'One year', 'Yes'),\n ('Male', 'Month-to-month', 'No'),\n ('Female', 'Month-to-month', 'Yes'),\n ('Female', 'Month-to-month', 'No'),\n ('Male', 'Month-to-month', 'No'),\n ('Male', 'Two year', 'No'),\n ('Female', 'Two year', 'No'),\n ('Female', 'Month-to-month', 'No'),\n ('Female', 'Month-to-month', 'Yes'),\n ('Male', 'Month-to-month', 'No'),\n ('Female', 'Month-to-month', 'Yes'),\n ('Female', 'Two year', 'No'),\n ('Female', 'One year', 'No'),\n ('Male', 'Two year', 'No'),\n ('Female', 'Month-to-month', 'Yes'),\n ('Male', 'Month-to-month', 'No'),\n ('Male', 'Month-to-month', 'Yes'),\n ('Male', 'Two year', 'No'),\n ('Female', 'One year', 'No'),\n ('Female', 'Month-to-month', 'Yes'),\n ('Male', 'Month-to-month', 'No'),\n ('Male', 'Month-to-month', 'No'),\n ('Male', 'Month-to-month', 'Yes'),\n ('Female', 'Two year', 'No'),\n ('Male', 'Month-to-month', 'No'),\n ('Female', 'One year', 'No'),\n ('Female', 'Month-to-month', 'No'),\n ('Female', 'Month-to-month', 'No'),\n ('Male', 'One year', 'No'),\n ('Male', 'Month-to-month', 'Yes'),\n ('Male', 'One year', 'No'),\n ('Male', 'Month-to-month', 'No'),\n ('Male', 'Month-to-month', 'No'),\n ('Male', 'One year', 'No'),\n ('Male', 'One year', 'No'),\n ('Female', 'Month-to-month', 'Yes'),\n ('Female', 'One year', 'No'),\n ('Female', 'Month-to-month', 'No'),\n ('Male', 'Two year', 'No'),\n ('Male', 'Month-to-month', 'Yes'),\n ('Male', 'One year', 'No'),\n ('Male', 'Two year', 'No'),\n ('Male', 'Two year', 'No'),\n ('Male', 'Month-to-month', 'No'),\n ('Male', 'Month-to-month', 'No'),\n ('Female', 'Month-to-month', 'No'),\n ('Male', 'Month-to-month', 'No'),\n ('Female', 'Month-to-month', 'Yes'),\n ('Female', 'Two year', 'No'),\n ('Male', 'One year', 'No'),\n ('Male', 'Month-to-month', 'No'),\n ('Male', 'Month-to-month', 'No'),\n ('Male', 'Month-to-month', 'Yes'),\n ('Female', 'Month-to-month', 'No'),\n ('Female', 'Two year', 'No'),\n ('Female', 'Month-to-month', 'No'),\n ('Male', 'Two year', 'No'),\n ('Male', 'Month-to-month', 'No'),\n ('Female', 'Two year', 'No'),\n ('Male', 'Month-to-month', 'No'),\n ('Female', 'Month-to-month', 'No'),\n ('Male', 'Month-to-month', 'No'),\n ('Male', 'One year', 'No'),\n ('Male', 'Two year', 'No'),\n ('Female', 'Month-to-month', 'Yes'),\n ('Male', 'Month-to-month', 'Yes'),\n ('Male', 'Month-to-month', 'Yes'),\n ('Male', 'Month-to-month', 'No'),\n ('Female', 'Two year', 'No'),\n ('Female', 'Month-to-month', 'No'),\n ('Female', 'Month-to-month', 'Yes'),\n ('Male', 'Two year', 'No'),\n ('Female', 'Month-to-month', 'Yes'),\n ('Male', 'Month-to-month', 'No'),\n ('Male', 'Month-to-month', 'No'),\n ('Female', 'Two year', 'No'),\n ('Female', 'Month-to-month', 'No'),\n ('Male', 'Month-to-month', 'No'),\n ('Female', 'One year', 'No'),\n ('Male', 'Two year', 'No'),\n ('Male', 'Month-to-month', 'No'),\n ('Female', 'Two year', 'No'),\n ('Female', 'Two year', 'No'),\n ('Female', 'Month-to-month', 'No'),\n ('Male', 'Month-to-month', 'Yes'),\n ('Female', 'Two year', 'No'),\n ('Female', 'Month-to-month', 'No'),\n ('Female', 'Two year', 'No'),\n ('Male', 'Two year', 'No'),\n ('Female', 'Month-to-month', 'No'),\n ('Male', 'Two year', 'No'),\n ('Female', 'One year', 'No'),\n ('Female', 'Month-to-month', 'No'),\n ('Male', 'Two year', 'No'),\n ('Male', 'Month-to-month', 'No'),\n ('Female', 'Month-to-month', 'No'),\n ('Male', 'Month-to-month', 'Yes'),\n ('Male', 'Two year', 'No'),\n ('Female', 'Month-to-month', 'No'),\n ('Female', 'Month-to-month', 'Yes'),\n ('Female', 'Two year', 'No'),\n ('Male', 'Month-to-month', 'No'),\n ('Female', 'Month-to-month', 'Yes'),\n ('Male', 'Month-to-month', 'Yes'),\n ('Female', 'Two year', 'No'),\n ('Male', 'Two year', 'No'),\n ('Female', 'Month-to-month', 'No'),\n ('Male', 'Month-to-month', 'No'),\n ('Male', 'One year', 'No'),\n ('Male', 'Month-to-month', 'No'),\n ('Male', 'One year', 'No'),\n ('Male', 'Month-to-month', 'No'),\n ('Male', 'Month-to-month', 'Yes'),\n ('Female', 'Month-to-month', 'Yes'),\n ('Female', 'Month-to-month', 'Yes'),\n ('Male', 'One year', 'Yes'),\n ('Female', 'Two year', 'No'),\n ('Female', 'Month-to-month', 'No'),\n ('Male', 'Month-to-month', 'Yes'),\n ('Female', 'One year', 'No'),\n ('Male', 'Month-to-month', 'Yes'),\n ('Male', 'Two year', 'No'),\n ('Female', 'Month-to-month', 'No'),\n ('Male', 'Month-to-month', 'No'),\n ('Female', 'Month-to-month', 'Yes'),\n ('Male', 'One year', 'No'),\n ('Female', 'One year', 'Yes'),\n ('Male', 'Two year', 'No'),\n ('Female', 'Month-to-month', 'No'),\n ('Female', 'One year', 'No'),\n ('Male', 'Two year', 'No'),\n ('Female', 'Two year', 'No'),\n ('Male', 'One year', 'No'),\n ('Female', 'Two year', 'No'),\n ('Female', 'Two year', 'No'),\n ('Female', 'Month-to-month', 'No'),\n ('Male', 'Month-to-month', 'No'),\n ('Male', 'One year', 'No'),\n ('Female', 'Month-to-month', 'No'),\n ('Female', 'Month-to-month', 'No'),\n ('Male', 'One year', 'Yes'),\n ('Female', 'Two year', 'No'),\n ('Female', 'Month-to-month', 'Yes'),\n ('Male', 'Two year', 'No'),\n ('Female', 'Two year', 'No'),\n ('Male', 'Month-to-month', 'Yes'),\n ('Female', 'Two year', 'No'),\n ('Male', 'Month-to-month', 'No'),\n ('Male', 'Two year', 'No'),\n ('Male', 'Month-to-month', 'Yes'),\n ('Male', 'Month-to-month', 'Yes'),\n ('Male', 'One year', 'Yes'),\n ('Male', 'Two year', 'Yes'),\n ('Female', 'Two year', 'No'),\n ('Male', 'One year', 'No'),\n ('Male', 'Month-to-month', 'No'),\n ('Female', 'Month-to-month', 'No'),\n ('Female', 'Month-to-month', 'Yes'),\n ('Female', 'One year', 'No'),\n ('Male', 'Month-to-month', 'Yes'),\n ('Male', 'Two year', 'No'),\n ('Female', 'Month-to-month', 'No'),\n ('Male', 'Two year', 'No'),\n ('Male', 'One year', 'No'),\n ('Male', 'Month-to-month', 'No'),\n ('Female', 'Two year', 'No'),\n ('Female', 'Month-to-month', 'Yes'),\n ('Male', 'Month-to-month', 'Yes'),\n ('Female', 'Month-to-month', 'No'),\n ('Male', 'One year', 'Yes'),\n ('Male', 'Month-to-month', 'No'),\n ('Female', 'One year', 'Yes'),\n ('Male', 'Two year', 'No'),\n ('Female', 'One year', 'No'),\n ('Female', 'Month-to-month', 'No'),\n ('Female', 'Month-to-month', 'Yes'),\n ('Male', 'Month-to-month', 'No'),\n ('Male', 'One year', 'No'),\n ('Male', 'Month-to-month', 'Yes'),\n ('Male', 'Month-to-month', 'No'),\n ('Male', 'Two year', 'No'),\n ('Female', 'One year', 'Yes'),\n ('Female', 'Two year', 'No'),\n ('Female', 'One year', 'Yes'),\n ('Female', 'Month-to-month', 'No'),\n ('Male', 'Month-to-month', 'Yes'),\n ('Female', 'One year', 'No'),\n ('Female', 'Two year', 'No'),\n ('Female', 'One year', 'No'),\n ('Male', 'Two year', 'No'),\n ('Female', 'Two year', 'No'),\n ('Female', 'Two year', 'No'),\n ('Male', 'Two year', 'No'),\n ('Male', 'Month-to-month', 'No'),\n ('Female', 'Month-to-month', 'No'),\n ('Female', 'Two year', 'No'),\n ('Female', 'One year', 'Yes'),\n ('Male', 'Two year', 'No'),\n ('Male', 'Month-to-month', 'Yes'),\n ('Female', 'One year', 'No'),\n ('Male', 'Two year', 'No'),\n ('Male', 'One year', 'No'),\n ('Male', 'Two year', 'No'),\n ('Male', 'Month-to-month', 'Yes'),\n ('Female', 'Month-to-month', 'Yes'),\n ('Male', 'Month-to-month', 'Yes'),\n ('Male', 'Month-to-month', 'Yes'),\n ('Male', 'Two year', 'No'),\n ('Female', 'Month-to-month', 'No'),\n ('Male', 'One year', 'Yes'),\n ('Male', 'Two year', 'No'),\n ('Female', 'Two year', 'No'),\n ('Male', 'One year', 'No'),\n ('Male', 'Two year', 'No'),\n ('Female', 'Month-to-month', 'Yes'),\n ('Male', 'Two year', 'No'),\n ('Female', 'Month-to-month', 'No'),\n ('Female', 'Month-to-month', 'Yes'),\n ('Female', 'One year', 'No'),\n ('Female', 'One year', 'No'),\n ('Male', 'Month-to-month', 'No'),\n ('Male', 'Month-to-month', 'Yes'),\n ('Male', 'One year', 'No'),\n ('Female', 'Month-to-month', 'Yes'),\n ('Female', 'One year', 'No'),\n ('Female', 'One year', 'No'),\n ('Male', 'Month-to-month', 'No'),\n ('Female', 'Month-to-month', 'No'),\n ('Female', 'One year', 'No'),\n ('Male', 'One year', 'No'),\n ('Female', 'Month-to-month', 'Yes'),\n ('Male', 'Month-to-month', 'No'),\n ('Male', 'Month-to-month', 'Yes'),\n ('Male', 'Month-to-month', 'No'),\n ('Female', 'Month-to-month', 'Yes'),\n ('Female', 'One year', 'No'),\n ('Male', 'Month-to-month', 'No'),\n ('Male', 'Two year', 'No'),\n ('Female', 'Two year', 'No'),\n ('Female', 'Month-to-month', 'Yes'),\n ('Male', 'Month-to-month', 'No'),\n ('Female', 'Month-to-month', 'No'),\n ('Female', 'Month-to-month', 'Yes'),\n ('Male', 'Month-to-month', 'Yes'),\n ('Female', 'One year', 'No'),\n ('Male', 'Two year', 'No'),\n ('Male', 'Month-to-month', 'Yes'),\n ('Male', 'Month-to-month', 'No'),\n ('Male', 'One year', 'No'),\n ('Female', 'Month-to-month', 'No'),\n ('Female', 'Two year', 'No'),\n ('Male', 'Month-to-month', 'Yes'),\n ('Female', 'Month-to-month', 'No'),\n ('Male', 'One year', 'No'),\n ('Male', 'One year', 'No'),\n ('Male', 'Two year', 'No'),\n ('Male', 'Month-to-month', 'Yes'),\n ('Female', 'Month-to-month', 'No'),\n ('Male', 'Two year', 'No'),\n ('Female', 'Month-to-month', 'No'),\n ('Female', 'One year', 'No'),\n ('Male', 'One year', 'No'),\n ('Male', 'Month-to-month', 'No'),\n ('Male', 'Month-to-month', 'No'),\n ('Female', 'One year', 'No'),\n ('Female', 'Month-to-month', 'No'),\n ('Female', 'Month-to-month', 'No'),\n ('Female', 'Month-to-month', 'Yes'),\n ('Female', 'Month-to-month', 'Yes'),\n ('Female', 'Two year', 'No'),\n ('Female', 'One year', 'No'),\n ('Female', 'Month-to-month', 'No'),\n ('Male', 'Two year', 'No'),\n ('Male', 'Two year', 'No'),\n ('Female', 'Month-to-month', 'Yes'),\n ('Female', 'One year', 'No'),\n ('Female', 'Month-to-month', 'No'),\n ('Female', 'Month-to-month', 'Yes'),\n ('Female', 'One year', 'No'),\n ('Female', 'Month-to-month', 'No'),\n ('Female', 'One year', 'No'),\n ('Female', 'Month-to-month', 'No'),\n ('Male', 'Month-to-month', 'No'),\n ('Female', 'Two year', 'No'),\n ('Female', 'Month-to-month', 'No'),\n ('Female', 'Month-to-month', 'Yes'),\n ('Male', 'Month-to-month', 'No'),\n ('Female', 'Month-to-month', 'No'),\n ('Male', 'Month-to-month', 'Yes'),\n ('Male', 'Two year', 'No'),\n ('Male', 'Month-to-month', 'Yes'),\n ('Female', 'Month-to-month', 'No'),\n ('Male', 'Month-to-month', 'No'),\n ('Female', 'Month-to-month', 'No'),\n ('Male', 'Month-to-month', 'No'),\n ('Male', 'Month-to-month', 'Yes'),\n ('Female', 'Two year', 'No'),\n ('Male', 'Month-to-month', 'No'),\n ('Male', 'Month-to-month', 'No'),\n ('Female', 'Month-to-month', 'No'),\n ('Male', 'Month-to-month', 'No'),\n ('Male', 'One year', 'No'),\n ('Male', 'Month-to-month', 'No'),\n ('Female', 'Two year', 'No'),\n ('Male', 'Month-to-month', 'Yes'),\n ('Male', 'Month-to-month', 'Yes'),\n ('Male', 'Month-to-month', 'Yes'),\n ('Male', 'Month-to-month', 'No'),\n ('Female', 'Two year', 'No'),\n ('Female', 'Month-to-month', 'Yes'),\n ('Female', 'Month-to-month', 'Yes'),\n ('Male', 'Month-to-month', 'No'),\n ('Male', 'Two year', 'No'),\n ('Male', 'Month-to-month', 'Yes'),\n ('Female', 'Two year', 'No'),\n ('Male', 'Two year', 'Yes'),\n ('Male', 'Month-to-month', 'Yes'),\n ('Female', 'Month-to-month', 'No'),\n ('Male', 'One year', 'Yes'),\n ('Female', 'One year', 'No'),\n ('Female', 'Month-to-month', 'No'),\n ('Male', 'Two year', 'No'),\n ('Female', 'One year', 'No'),\n ('Male', 'Month-to-month', 'Yes'),\n ('Female', 'Two year', 'No'),\n ('Female', 'Month-to-month', 'Yes'),\n ('Female', 'Month-to-month', 'No'),\n ('Male', 'Month-to-month', 'No'),\n ('Male', 'Month-to-month', 'No'),\n ('Male', 'One year', 'No'),\n ('Female', 'Two year', 'No'),\n ('Female', 'Two year', 'No'),\n ('Female', 'Two year', 'No'),\n ('Female', 'Two year', 'No'),\n ('Male', 'Two year', 'No'),\n ('Female', 'Month-to-month', 'Yes'),\n ('Female', 'Month-to-month', 'Yes'),\n ('Female', 'Month-to-month', 'Yes'),\n ('Male', 'Two year', 'No'),\n ('Male', 'Month-to-month', 'No'),\n ('Female', 'Month-to-month', 'Yes'),\n ('Male', 'Month-to-month', 'Yes'),\n ('Male', 'Month-to-month', 'No'),\n ...]"
     },
     "execution_count": 13,
     "metadata": {},
     "output_type": "execute_result"
    }
   ],
   "source": [
    "data_list"
   ],
   "metadata": {
    "collapsed": false,
    "pycharm": {
     "name": "#%%\n"
    }
   }
  },
  {
   "cell_type": "code",
   "execution_count": 14,
   "outputs": [
    {
     "data": {
      "text/plain": "list"
     },
     "execution_count": 14,
     "metadata": {},
     "output_type": "execute_result"
    }
   ],
   "source": [
    "type(data_list)"
   ],
   "metadata": {
    "collapsed": false,
    "pycharm": {
     "name": "#%%\n"
    }
   }
  },
  {
   "cell_type": "code",
   "execution_count": 16,
   "outputs": [],
   "source": [
    "df = pd.DataFrame (data_list, columns = ['gender','contract','churn'])"
   ],
   "metadata": {
    "collapsed": false,
    "pycharm": {
     "name": "#%%\n"
    }
   }
  },
  {
   "cell_type": "code",
   "execution_count": 19,
   "outputs": [
    {
     "name": "stdout",
     "output_type": "stream",
     "text": [
      "<class 'pandas.core.frame.DataFrame'>\n"
     ]
    },
    {
     "data": {
      "text/plain": "   gender        contract churn\n0  Female  Month-to-month    No\n1    Male        One year    No\n2    Male  Month-to-month   Yes\n3    Male        One year    No\n4  Female  Month-to-month   Yes",
      "text/html": "<div>\n<style scoped>\n    .dataframe tbody tr th:only-of-type {\n        vertical-align: middle;\n    }\n\n    .dataframe tbody tr th {\n        vertical-align: top;\n    }\n\n    .dataframe thead th {\n        text-align: right;\n    }\n</style>\n<table border=\"1\" class=\"dataframe\">\n  <thead>\n    <tr style=\"text-align: right;\">\n      <th></th>\n      <th>gender</th>\n      <th>contract</th>\n      <th>churn</th>\n    </tr>\n  </thead>\n  <tbody>\n    <tr>\n      <th>0</th>\n      <td>Female</td>\n      <td>Month-to-month</td>\n      <td>No</td>\n    </tr>\n    <tr>\n      <th>1</th>\n      <td>Male</td>\n      <td>One year</td>\n      <td>No</td>\n    </tr>\n    <tr>\n      <th>2</th>\n      <td>Male</td>\n      <td>Month-to-month</td>\n      <td>Yes</td>\n    </tr>\n    <tr>\n      <th>3</th>\n      <td>Male</td>\n      <td>One year</td>\n      <td>No</td>\n    </tr>\n    <tr>\n      <th>4</th>\n      <td>Female</td>\n      <td>Month-to-month</td>\n      <td>Yes</td>\n    </tr>\n  </tbody>\n</table>\n</div>"
     },
     "execution_count": 19,
     "metadata": {},
     "output_type": "execute_result"
    }
   ],
   "source": [
    "print(type(df))\n",
    "df.head()"
   ],
   "metadata": {
    "collapsed": false,
    "pycharm": {
     "name": "#%%\n"
    }
   }
  },
  {
   "cell_type": "code",
   "execution_count": null,
   "outputs": [],
   "source": [],
   "metadata": {
    "collapsed": false,
    "pycharm": {
     "name": "#%%\n"
    }
   }
  }
 ],
 "metadata": {
  "kernelspec": {
   "display_name": "Python 3",
   "language": "python",
   "name": "python3"
  },
  "language_info": {
   "codemirror_mode": {
    "name": "ipython",
    "version": 2
   },
   "file_extension": ".py",
   "mimetype": "text/x-python",
   "name": "python",
   "nbconvert_exporter": "python",
   "pygments_lexer": "ipython2",
   "version": "2.7.6"
  }
 },
 "nbformat": 4,
 "nbformat_minor": 0
}